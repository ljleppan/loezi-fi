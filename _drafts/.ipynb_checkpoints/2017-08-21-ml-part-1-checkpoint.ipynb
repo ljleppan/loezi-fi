{
 "cells": [
  {
   "cell_type": "markdown",
   "metadata": {},
   "source": [
    "---\n",
    "title:  \"Machine Learning - Part 1\"\n",
    "layout: post\n",
    "excerpt: \"Strap in, ladies and gentlemen, for we are starting on a journey to figuring out what this whole \\\"machine learning\\\" thing is all about. \"\n",
    "---"
   ]
  },
  {
   "cell_type": "markdown",
   "metadata": {},
   "source": [
    "Strap in, ladies and gentlemen, for we are starting on a journey to figuring out what this whole \"machine learning\" thing is all about. \n",
    "\n",
    "# What I'll assume you know\n",
    "\n",
    "You are assumed to understand the basics of the Python programming language, more specifically Python 3. But worry not, if you only know other programming languages; Python is about as close to pseudocode as a programming language can reasonable get to. In case you only know Python 2, skim through [this](http://sebastianraschka.com/Articles/2014_python_2_3_key_diff.html) and you should be fine.\n",
    "\n",
    "I'll also assume that you understand some mathematics. The definition of \"some\" will include increasing amounts of things as we progress with the series, but for now if you've ever seen the following notation and understand it, you should be fine.\n",
    "\n",
    "\\\\[ \\sum_{i=0}^5 i = 0 + 1 + 2 + 3 + 4 + 5 = 15 \\\\]\n",
    "\n",
    "# Starting simple\n",
    "\n",
    "The basic premise of machine learning is to look at some data, learn some pattern from it and (hopefully) apply that pattern to some new data.\n",
    "\n",
    "For example, we might look at data from house sales, containing for each sale the size of the house (in \\\\(m^2\\\\)) and the house price. From these, we can form a hypothesis of the relation between these two values and then use that hypothesis to \"predict\" what the price of some house of a size we haven't seen before should be.\n",
    "\n",
    "Say, that we've gone over a few house sales and collected the following data:"
   ]
  },
  {
   "cell_type": "code",
   "execution_count": 1,
   "metadata": {
    "collapsed": true
   },
   "outputs": [],
   "source": [
    "house_prices = [\n",
    "    #(m^2, house_price in euros)\n",
    "    (40, 100000),\n",
    "    (60, 150000),\n",
    "    (100, 250000),\n",
    "    (150, 375000)\n",
    "]"
   ]
  },
  {
   "cell_type": "markdown",
   "metadata": {},
   "source": [
    "or the same data as a plot:"
   ]
  },
  {
   "cell_type": "code",
   "execution_count": 2,
   "metadata": {},
   "outputs": [
    {
     "data": {
      "image/png": "[encoded data removed]",
      "text/plain": [
       "<matplotlib.figure.Figure at 0x7f18c09bf0f0>"
      ]
     },
     "metadata": {},
     "output_type": "display_data"
    }
   ],
   "source": [
    "import matplotlib.pyplot as plt\n",
    "plt.style.use('fivethirtyeight')\n",
    "\n",
    "sizes = [data_point[0] for data_point in house_prices]\n",
    "prices = [data_point[1] for data_point in house_prices]\n",
    "plt.scatter(sizes, prices)\n",
    "plt.ylabel('House price, euros')\n",
    "plt.xlabel('House size, m^2')\n",
    "plt.title('Relation of house price and data')\n",
    "plt.show()"
   ]
  },
  {
   "cell_type": "markdown",
   "metadata": {},
   "source": [
    "Simply by looking at that data, we notice that where'ever this data is from, you seem to be getting around 1 square meter per 2500 euros. In fact, that's exactly what we are getting:"
   ]
  },
  {
   "cell_type": "code",
   "execution_count": 3,
   "metadata": {},
   "outputs": [
    {
     "data": {
      "text/plain": [
       "True"
      ]
     },
     "execution_count": 3,
     "metadata": {},
     "output_type": "execute_result"
    }
   ],
   "source": [
    "all([(price == 2500 * sqm) for sqm, price in house_prices])"
   ]
  },
  {
   "cell_type": "markdown",
   "metadata": {},
   "source": [
    "In case you are not a fan of list comprehensions, two things. First, sorry. You'll see more of them. Second, that there is the same as this:"
   ]
  },
  {
   "cell_type": "code",
   "execution_count": 4,
   "metadata": {},
   "outputs": [
    {
     "data": {
      "text/plain": [
       "True"
      ]
     },
     "execution_count": 4,
     "metadata": {},
     "output_type": "execute_result"
    }
   ],
   "source": [
    "# Check hypothesis for all data points\n",
    "results = []\n",
    "for sqm, price in house_prices:\n",
    "    if price == 2500 * sqm:\n",
    "        results.append(True)\n",
    "    else:\n",
    "        results.append(False)\n",
    "        \n",
    "# Check that hypothesis was correct in all cases\n",
    "all_true = True\n",
    "for result in results:\n",
    "    if result is not True:\n",
    "        all_true = False\n",
    "        break\n",
    "all_true"
   ]
  },
  {
   "cell_type": "markdown",
   "metadata": {},
   "source": [
    "So it seems that based on the data we've seen, if someone were to ask us for the price of a 50 \\\\(m^2\\\\) house, we should answer \\\\( 50 m^2 \\times 2500 €/m^2= 125000€ \\\\). We can also generalize the observation into a function, something like the following:"
   ]
  },
  {
   "cell_type": "code",
   "execution_count": 5,
   "metadata": {
    "collapsed": true
   },
   "outputs": [],
   "source": [
    "def predict_price(house_size):\n",
    "    return house_size * 2500"
   ]
  },
  {
   "cell_type": "markdown",
   "metadata": {},
   "source": [
    "And conversely, if someone were to ask us how large of a house they could get for 90000 euros, we would likely answer \\\\( \\frac{90000 €}{2500 €/m^2} = 36 m^2 \\\\), generalized like this"
   ]
  },
  {
   "cell_type": "code",
   "execution_count": 6,
   "metadata": {
    "collapsed": true
   },
   "outputs": [],
   "source": [
    "def predict_size(price):\n",
    "    return price / 2500"
   ]
  },
  {
   "cell_type": "markdown",
   "metadata": {},
   "source": [
    "What we did above is effectively manual machine learning. \n",
    "\n",
    "## Now wait just a moment...\n",
    "\n",
    "At this point, some of you might very well be rising up, shouting \"but that's just statistics! We came to learn about machine learning!\". To that I answer, \"yes\". To quote a quote of a quote:\n",
    "> From R's fortunes package:\n",
    ">\n",
    ">> To paraphrase provocatively, 'machine learning is statistics minus any checking of models and assumptions'.\n",
    ">> — Brian D. Ripley (about the difference between machine learning and statistics) useR! 2004, Vienna (May 2004)\n",
    ">\n",
    "> :-)\n",
    ">\n",
    "> Season's Greetings!\n",
    ">\n",
    "> Simon. \n",
    "\n",
    "The classic reply, of course, is\n",
    "> Simon,\n",
    ">\n",
    "> In that case, maybe we should get rid of checking of models and assumptions more often. Then maybe we'd be able to > solve some of the problems that the machine learning people can solve but we can't! \n",
    "\n",
    "(both from [here](http://andrewgelman.com/2008/12/03/machine_learnin/)).\n",
    "\n",
    "One of the better summaries is presented by Ian Witten and Eibe Frank in *Data Mining: Practical Machine Learning Tools and Techniques* (2nd ed., pp. 29):\n",
    "\n",
    "> What’s the difference between machine learning and statistics? Cynics, looking wryly  at  the  explosion  of  commercial  interest  (and  hype)  in  this  area, equate data  mining  to  statistics  plus  marketing. In  truth, you  should  not  look  for  a dividing line between machine learning and statistics because there is a continuum — and a multidimensional one at that — of data analysis techniques. Some derive from the skills taught in standard statistics courses, and others are more closely associated with the kind of machine learning that has arisen out of computer science.\n",
    "\n",
    "# Occam's Razor\n",
    "\n",
    "Above, we looked at some data points an inferred a pattern or a rule manually. It seems somehow natural that the relation between the \\\\(m^2\\\\) and the house prices would be relatively simple. Sure, there could in reality be some much more complex relation between the two. But based on the data we've seen so far, the simple **linear relation** somehow seems the most likely. \n",
    "\n",
    "This is largely because it fulfills two critical conditions for a good \"model\": it is **accurate** by correctly working for all the data we've seen) and it seems to be as **simple** as possible. These criteria for accuracy and simplicity are something that we humans tend to just \"get\" quite naturally. If I'd gone and claimed that some *n*th degree polynomial relation between the house size and prices was somehow \"better\" than the simple relation we inferred above, you would probably object to that and ask for a reason why the more complicated explanation should be accepted over the simpler one. But at the same time, if I were to give you some additional data points where the original function fails but the new one works correctly, you would probably be more accepting of the new formula. \n",
    "\n",
    "And handily, they largely hold for machine learning as well. In most cases, machine learning seeks for the **simplest model** that is also **as accurate as possible**. We'll come back to both of these concepts later on.\n",
    "\n",
    "# Automated inference\n",
    "\n",
    "Above, we inferred manually that the relation between the house price and house size is \\\\(house\\_price = 2500 \\times house\\_size\\\\). But how would we do this automatically? "
   ]
  },
  {
   "cell_type": "code",
   "execution_count": null,
   "metadata": {
    "collapsed": true
   },
   "outputs": [],
   "source": []
  }
 ],
 "metadata": {
  "kernelspec": {
   "display_name": "Python 3",
   "language": "python",
   "name": "python3"
  },
  "language_info": {
   "codemirror_mode": {
    "name": "ipython",
    "version": 3
   },
   "file_extension": ".py",
   "mimetype": "text/x-python",
   "name": "python",
   "nbconvert_exporter": "python",
   "pygments_lexer": "ipython3",
   "version": "3.5.2"
  }
 },
 "nbformat": 4,
 "nbformat_minor": 2
}
