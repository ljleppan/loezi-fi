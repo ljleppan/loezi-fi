{
 "cells": [
  {
   "cell_type": "markdown",
   "metadata": {},
   "source": [
    "---\n",
    "title:  \"Machine Learning - Part 1\"\n",
    "layout: post\n",
    "excerpt: \"An introduction to a soft introduction to machine learning\"\n",
    "---"
   ]
  },
  {
   "cell_type": "markdown",
   "metadata": {},
   "source": [
    "Strap in, ladies and gentlemen, for we are starting on a journey to figuring out what this whole \"machine learning\" fad is all about. \n",
    "\n",
    "# What I'll assume you know\n",
    "\n",
    "You are assumed to understand the basics of the Python programming language, more specifically Python 3. But worry not, if you only know other programming languages; Python is about as close to pseudocode as a programming language can reasonable get to. In case you only know Python 2, skim through [this](http://sebastianraschka.com/Articles/2014_python_2_3_key_diff.html) and you should be fine.\n",
    "\n",
    "I'll also assume that you understand some mathematics. The definition of \"some\" will include increasing amounts of things as we progress with the series, but for now if you've ever seen the following notation and understand it, you should be fine.\n",
    "\n",
    "\\\\[ \\sum_{i=0}^5 i = 0 + 1 + 2 + 3 + 4 + 5 = 15 \\\\]\n",
    "\n",
    "# Starting simple\n",
    "\n",
    "The basic premise of machine learning is to look at some data, learn some pattern from it and (hopefully) apply that pattern to some new data.\n",
    "\n",
    "For example, we might have some housing data, such as the following:"
   ]
  },
  {
   "cell_type": "code",
   "execution_count": 11,
   "metadata": {
    "collapsed": true
   },
   "outputs": [],
   "source": [
    "house_prices = [\n",
    "    #(m^2, house_price in euros)\n",
    "    (40, 100000),\n",
    "    (42, 105000),\n",
    "    (100, 250000),\n",
    "    (150, 375000)\n",
    "]"
   ]
  },
  {
   "cell_type": "markdown",
   "metadata": {},
   "source": [
    "or the same thing as a plot:"
   ]
  },
  {
   "cell_type": "code",
   "execution_count": 16,
   "metadata": {},
   "outputs": [
    {
     "data": {
      "image/png": "[encoded data removed]",
      "text/plain": [
       "<matplotlib.figure.Figure at 0x7f2df3ac5f98>"
      ]
     },
     "metadata": {},
     "output_type": "display_data"
    }
   ],
   "source": [
    "import matplotlib.pyplot as plt\n",
    "plt.style.use('fivethirtyeight')\n",
    "\n",
    "sizes = [data_point[0] for data_point in house_prices]\n",
    "prices = [data_point[1] for data_point in house_prices]\n",
    "plt.scatter(sizes, prices)\n",
    "plt.ylabel('House price, euros')\n",
    "plt.xlabel('House size, m^2')\n",
    "plt.title('Relation of house price and data')\n",
    "plt.show()"
   ]
  },
  {
   "cell_type": "markdown",
   "metadata": {},
   "source": [
    "Simply by looking at that data, we notice that where'ever this data is from, you seem to be getting around 1 square meter per 2500 euros. In fact, that's exactly what we are getting:"
   ]
  },
  {
   "cell_type": "code",
   "execution_count": 12,
   "metadata": {},
   "outputs": [
    {
     "data": {
      "text/plain": [
       "True"
      ]
     },
     "execution_count": 12,
     "metadata": {},
     "output_type": "execute_result"
    }
   ],
   "source": [
    "all([(price == 2500 * sqm) for sqm, price in house_prices])"
   ]
  },
  {
   "cell_type": "markdown",
   "metadata": {},
   "source": [
    "In case you are not a fan of list comprehensions, two things. First, sorry. You'll see more of them. Second, that there is the same as this:"
   ]
  },
  {
   "cell_type": "code",
   "execution_count": 14,
   "metadata": {},
   "outputs": [
    {
     "data": {
      "text/plain": [
       "True"
      ]
     },
     "execution_count": 14,
     "metadata": {},
     "output_type": "execute_result"
    }
   ],
   "source": [
    "# Check hypothesis for all data points\n",
    "results = []\n",
    "for sqm, price in house_prices:\n",
    "    if price == 2500 * sqm:\n",
    "        results.append(True)\n",
    "    else:\n",
    "        results.append(False)\n",
    "        \n",
    "# Check that hypothesis was correct in all cases\n",
    "all_true = True\n",
    "for result in results:\n",
    "    if result is not True:\n",
    "        all_true = False\n",
    "        break\n",
    "all_true"
   ]
  },
  {
   "cell_type": "markdown",
   "metadata": {},
   "source": [
    "So it seems that based on the data we've seen, if someone were to ask us for the price of a 50 \\\\(m^2\\\\) house, we should answer \\\\( 50 \\times 2500 = 125000\\\\) euros. We can also generalize the observation into a function, something like the following:"
   ]
  },
  {
   "cell_type": "code",
   "execution_count": 17,
   "metadata": {
    "collapsed": true
   },
   "outputs": [],
   "source": [
    "def predict_price(house_size):\n",
    "    return house_size * 2500"
   ]
  },
  {
   "cell_type": "markdown",
   "metadata": {},
   "source": [
    "What we did above is effectively manual machine learning. \n",
    "\n",
    "## Now wait just a moment...\n",
    "\n",
    "At this point, some of you might very well be rising up, shouting \"but that's just statistics! We came to learn about machine learning!\". To that I answer, \"yes\". To quote a quote of a quote:\n",
    "> From R's fortunes package:\n",
    ">\n",
    "> To paraphrase provocatively, 'machine learning is statistics minus any checking of models and assumptions'.\n",
    "> — Brian D. Ripley (about the difference between machine learning and statistics) useR! 2004, Vienna (May 2004)\n",
    ">\n",
    "> :-)\n",
    ">\n",
    "> Season's Greetings!\n",
    ">\n",
    "> Simon. \n",
    "\n",
    "The classic reply, of course, is\n",
    "\n",
    "> Simon,\n",
    ">\n",
    "> In that case, maybe we should get rid of checking of models and assumptions more often. Then maybe we'd be able to > solve some of the problems that the machine learning people can solve but we can't! \n",
    "\n",
    "(both from [here](http://andrewgelman.com/2008/12/03/machine_learnin/)).\n",
    "\n",
    "One of the better summaries is presented by Ian Witten and Eibe Frank in *Data Mining: Practical Machine Learning Tools and Techniques* (2nd ed., pp. 29):\n",
    "\n",
    "> What’s the difference between machine learning and statistics? Cynics, looking wryly  at  the  explosion  of  commercial  interest  (and  hype)  in  this  area, equate data  mining  to  statistics  plus  marketing. In  truth, you  should  not  look  for  a dividing line between machine learning and statistics because there is a continuum — and a multidimensional one at that — of data analysis techniques. Some derive from the skills taught in standard statistics courses, and others are more closely associated with the kind of machine learning that has arisen out of computer science.\n"
   ]
  },
  {
   "cell_type": "code",
   "execution_count": null,
   "metadata": {
    "collapsed": true
   },
   "outputs": [],
   "source": []
  }
 ],
 "metadata": {
  "kernelspec": {
   "display_name": "Python 3",
   "language": "python",
   "name": "python3"
  },
  "language_info": {
   "codemirror_mode": {
    "name": "ipython",
    "version": 3
   },
   "file_extension": ".py",
   "mimetype": "text/x-python",
   "name": "python",
   "nbconvert_exporter": "python",
   "pygments_lexer": "ipython3",
   "version": "3.5.2"
  }
 },
 "nbformat": 4,
 "nbformat_minor": 2
}
